{
 "cells": [
  {
   "cell_type": "markdown",
   "id": "1e412793",
   "metadata": {},
   "source": [
    "# ESM Training Baseline"
   ]
  },
  {
   "cell_type": "markdown",
   "id": "87cc0000",
   "metadata": {},
   "source": [
    "![alt text](results/baseline/baseline_results.png)"
   ]
  },
  {
   "cell_type": "markdown",
   "id": "deb3f94e",
   "metadata": {},
   "source": [
    "# Deeper and more Gradual Reduction in Layer Sizes"
   ]
  },
  {
   "cell_type": "markdown",
   "id": "32c13a50",
   "metadata": {},
   "source": [
    "![alt text](results/baseline_1/improved_esm_predictor_results.png)"
   ]
  },
  {
   "cell_type": "markdown",
   "id": "e29c55d3",
   "metadata": {},
   "source": [
    "# Protein Activity Data Shape\n",
    "\n",
    "#### The problem is that the activities are not normally distributed. Rather, there is an outside amount of \"dead\"/no-activity proteins, which makes the model's predictions difficult. "
   ]
  },
  {
   "cell_type": "markdown",
   "id": "c60b468d",
   "metadata": {},
   "source": [
    "![alt text](activity_distribution.png)"
   ]
  }
 ],
 "metadata": {
  "kernelspec": {
   "display_name": "esmfold",
   "language": "python",
   "name": "python3"
  },
  "language_info": {
   "codemirror_mode": {
    "name": "ipython",
    "version": 3
   },
   "file_extension": ".py",
   "mimetype": "text/x-python",
   "name": "python",
   "nbconvert_exporter": "python",
   "pygments_lexer": "ipython3",
   "version": "3.7.12"
  }
 },
 "nbformat": 4,
 "nbformat_minor": 5
}
