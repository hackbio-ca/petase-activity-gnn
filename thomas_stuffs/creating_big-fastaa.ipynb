{
 "cells": [
  {
   "cell_type": "markdown",
   "id": "bccf82ae",
   "metadata": {},
   "source": [
    "# **Creating 1 million PETase mutants (5 mutations away)**"
   ]
  },
  {
   "cell_type": "code",
   "execution_count": 7,
   "id": "c8cafc3d",
   "metadata": {},
   "outputs": [],
   "source": [
    "import random\n",
    "\n",
    "##### CREATE MUTANTS OF THIS WILDTYPE SEQUENCE #####\n",
    "ispetase = \"MNFPRASRLMQAAVLGGLMAVSAAATAQTNPYARGPNPTAASLEASAGPFTVRSFTVSRPSGYGAGTVYYPTNAGGTVGAIAIVPGYTARQSSIKWWGPRLASHGFVVITIDTNSTLDQPSSRSSQQMAALRQVASLNGTSSSPIYGKVDTARMGVMGWSMGGGGSLISAANNPSLKAAAPQAPWDSSTNFSSVTVPTLIFACENDSIAPVNSSALPIYDSMSRNAKQFLEINGGSHSCANSGNSNQALIGKKGVAWMKRFMDNDTRYSTFACENPNSTRVSDFRTANCS\"\n",
    "ispetase_length = len(ispetase)\n",
    "\n",
    "amino_acids = [\n",
    "    \"A\",  # Alanine\n",
    "    \"R\",  # Arginine\n",
    "    \"N\",  # Asparagine\n",
    "    \"D\",  # Aspartic acid\n",
    "    \"C\",  # Cysteine\n",
    "    \"Q\",  # Glutamine\n",
    "    \"E\",  # Glutamic acid\n",
    "    \"G\",  # Glycine\n",
    "    \"H\",  # Histidine\n",
    "    \"I\",  # Isoleucine\n",
    "    \"L\",  # Leucine\n",
    "    \"K\",  # Lysine\n",
    "    \"M\",  # Methionine\n",
    "    \"F\",  # Phenylalanine\n",
    "    \"P\",  # Proline\n",
    "    \"S\",  # Serine\n",
    "    \"T\",  # Threonine\n",
    "    \"W\",  # Tryptophan\n",
    "    \"Y\",  # Tyrosine\n",
    "    \"V\"   # Valine\n",
    "]\n",
    "output_file = open(\"big_fasta.fa\", \"w\")\n",
    "\n",
    "##### GENERATE MUTANTS #####\n",
    "for mutant_sequence in range(1000000):\n",
    "    output_file.write(\">IsPETase_[\")\n",
    "    mutated_sequence = ispetase\n",
    "\n",
    "    positions_done = []\n",
    "    mutations_done = []\n",
    "    for mutation in range(5):\n",
    "        # GET THE RANDOM POSITION\n",
    "        pos_position = random.randint(1, ispetase_length)\n",
    "        while pos_position in positions_done:\n",
    "            pos_position = random.randint(1, ispetase_length)\n",
    "        position = pos_position\n",
    "        positions_done.append(position)\n",
    "\n",
    "        # GET THE MUTATON\n",
    "        old_residue = mutated_sequence[position - 1]\n",
    "        \n",
    "        pos_new_residue = random.choice(amino_acids)\n",
    "        while pos_new_residue == old_residue:\n",
    "            pos_new_residue = random.choice(amino_acids)\n",
    "        new_residue = pos_new_residue\n",
    "        mutations_done.append(new_residue)\n",
    "\n",
    "        # MUTATE THE SEQUENCE\n",
    "        sequence_list = list(mutated_sequence)\n",
    "        sequence_list[position - 1] = new_residue\n",
    "        \n",
    "        mutated_sequence = \"\".join(sequence_list)\n",
    "        output_file.write(new_residue + str(position) + \",\")\n",
    "    output_file.write(\"]\\n\")   \n",
    "    output_file.write(mutated_sequence + \"\\n\")\n",
    "output_file.close()"
   ]
  }
 ],
 "metadata": {
  "kernelspec": {
   "display_name": "bioinfo",
   "language": "python",
   "name": "python3"
  },
  "language_info": {
   "codemirror_mode": {
    "name": "ipython",
    "version": 3
   },
   "file_extension": ".py",
   "mimetype": "text/x-python",
   "name": "python",
   "nbconvert_exporter": "python",
   "pygments_lexer": "ipython3",
   "version": "3.9.23"
  }
 },
 "nbformat": 4,
 "nbformat_minor": 5
}
